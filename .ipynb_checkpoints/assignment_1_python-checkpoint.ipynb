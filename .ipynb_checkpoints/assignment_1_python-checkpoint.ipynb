{
 "cells": [
  {
   "cell_type": "markdown",
   "metadata": {},
   "source": [
    "<center><h1> Assignment 1</h1></center>"
   ]
  },
  {
   "cell_type": "markdown",
   "metadata": {},
   "source": [
    "**Author(s):**\n",
    "1. Marcelo Ortiz Villavicencio (marcelo.ortiz@emory.edu)\n",
    "2. Jafet Baca Obando (jbacaob@emory.edu)"
   ]
  },
  {
   "cell_type": "markdown",
   "metadata": {},
   "source": [
    "**Objectives**: This <ins>replication</ins> exercise aims at\n",
    " 1. Making students comfortable using a *Jupyter Notebook* to kickstart an empirical project;\n",
    " 2. Use *GitHub* to retrieve and submit computer code."
   ]
  },
  {
   "cell_type": "markdown",
   "metadata": {},
   "source": [
    "**Instructions**: This replication exercise is based on the material in Sections 2.2, 2.3, and 2.5 in Bruce Hansen's [Econometrics Lecture Notes](http://www.ssc.wisc.edu/~bhansen/econometrics/) (version posted on Canvas). Please write down your code and <ins>execute</ins> it in the cell below each question. _Full_ marks will not be given for just correct answers, but for (1) using the provisioned Virtual Machine (VM) on Google Cloud, (2) code elegance, (3) code proper documentation, and (4) practicality. ⚠ You _must_ use Python."
   ]
  },
  {
   "cell_type": "code",
   "execution_count": 1,
   "metadata": {},
   "outputs": [],
   "source": [
    "# imports\n",
    "import requests, zipfile, io, os\n",
    "import warnings\n",
    "warnings.filterwarnings(\"ignore\")\n",
    "import sys\n",
    "import shutil\n",
    "\n",
    "import pandas as pd\n",
    "import numpy as np\n",
    "import matplotlib.pyplot as plt\n",
    "\n",
    "\n",
    "from scipy.stats.mstats import gmean"
   ]
  },
  {
   "cell_type": "code",
   "execution_count": 2,
   "metadata": {},
   "outputs": [],
   "source": [
    "TEMPDIR = 'data/'\n",
    "path_dataset = 'cps09mar/cps09mar.xlsx'"
   ]
  },
  {
   "cell_type": "markdown",
   "metadata": {},
   "source": [
    "<center><h2> Questions</h2></center>"
   ]
  },
  {
   "cell_type": "markdown",
   "metadata": {},
   "source": [
    "1. [2 points] Load the data _directly_ from the internet into a data frame, and create a local copy called `datos`. Then print the first 5 rows of the `datos` data frame."
   ]
  },
  {
   "cell_type": "code",
   "execution_count": 3,
   "metadata": {},
   "outputs": [],
   "source": [
    "# create temporary directory to save data\n",
    "if not os.path.exists(TEMPDIR):\n",
    "    os.mkdir(TEMPDIR)"
   ]
  },
  {
   "cell_type": "code",
   "execution_count": 4,
   "metadata": {},
   "outputs": [],
   "source": [
    "# download zip data and save in folder temporary folder data\n",
    "try:\n",
    "    zip_file_url = 'https://www.ssc.wisc.edu/~bhansen/econometrics/Econometrics%20Data.zip'\n",
    "    req = requests.get(zip_file_url)\n",
    "    zip_file = zipfile.ZipFile(io.BytesIO(req.content))\n",
    "    zip_file.extractall(TEMPDIR)\n",
    "except Exception as e:\n",
    "    print(e)\n",
    "    print('Unable to read file from URL provided')\n",
    "    sys.exit(1)"
   ]
  },
  {
   "cell_type": "code",
   "execution_count": 5,
   "metadata": {},
   "outputs": [
    {
     "data": {
      "text/html": [
       "<div>\n",
       "<style scoped>\n",
       "    .dataframe tbody tr th:only-of-type {\n",
       "        vertical-align: middle;\n",
       "    }\n",
       "\n",
       "    .dataframe tbody tr th {\n",
       "        vertical-align: top;\n",
       "    }\n",
       "\n",
       "    .dataframe thead th {\n",
       "        text-align: right;\n",
       "    }\n",
       "</style>\n",
       "<table border=\"1\" class=\"dataframe\">\n",
       "  <thead>\n",
       "    <tr style=\"text-align: right;\">\n",
       "      <th></th>\n",
       "      <th>age</th>\n",
       "      <th>female</th>\n",
       "      <th>hisp</th>\n",
       "      <th>education</th>\n",
       "      <th>earnings</th>\n",
       "      <th>hours</th>\n",
       "      <th>week</th>\n",
       "      <th>union</th>\n",
       "      <th>uncov</th>\n",
       "      <th>region</th>\n",
       "      <th>race</th>\n",
       "      <th>marital</th>\n",
       "    </tr>\n",
       "  </thead>\n",
       "  <tbody>\n",
       "    <tr>\n",
       "      <th>0</th>\n",
       "      <td>52</td>\n",
       "      <td>0</td>\n",
       "      <td>0</td>\n",
       "      <td>12</td>\n",
       "      <td>146000</td>\n",
       "      <td>45</td>\n",
       "      <td>52</td>\n",
       "      <td>0</td>\n",
       "      <td>0</td>\n",
       "      <td>1</td>\n",
       "      <td>1</td>\n",
       "      <td>1</td>\n",
       "    </tr>\n",
       "    <tr>\n",
       "      <th>1</th>\n",
       "      <td>38</td>\n",
       "      <td>0</td>\n",
       "      <td>0</td>\n",
       "      <td>18</td>\n",
       "      <td>50000</td>\n",
       "      <td>45</td>\n",
       "      <td>52</td>\n",
       "      <td>0</td>\n",
       "      <td>0</td>\n",
       "      <td>1</td>\n",
       "      <td>1</td>\n",
       "      <td>1</td>\n",
       "    </tr>\n",
       "    <tr>\n",
       "      <th>2</th>\n",
       "      <td>38</td>\n",
       "      <td>0</td>\n",
       "      <td>0</td>\n",
       "      <td>14</td>\n",
       "      <td>32000</td>\n",
       "      <td>40</td>\n",
       "      <td>51</td>\n",
       "      <td>0</td>\n",
       "      <td>0</td>\n",
       "      <td>1</td>\n",
       "      <td>1</td>\n",
       "      <td>1</td>\n",
       "    </tr>\n",
       "    <tr>\n",
       "      <th>3</th>\n",
       "      <td>41</td>\n",
       "      <td>1</td>\n",
       "      <td>0</td>\n",
       "      <td>13</td>\n",
       "      <td>47000</td>\n",
       "      <td>40</td>\n",
       "      <td>52</td>\n",
       "      <td>0</td>\n",
       "      <td>0</td>\n",
       "      <td>1</td>\n",
       "      <td>1</td>\n",
       "      <td>1</td>\n",
       "    </tr>\n",
       "    <tr>\n",
       "      <th>4</th>\n",
       "      <td>42</td>\n",
       "      <td>0</td>\n",
       "      <td>0</td>\n",
       "      <td>13</td>\n",
       "      <td>161525</td>\n",
       "      <td>50</td>\n",
       "      <td>52</td>\n",
       "      <td>1</td>\n",
       "      <td>0</td>\n",
       "      <td>1</td>\n",
       "      <td>1</td>\n",
       "      <td>1</td>\n",
       "    </tr>\n",
       "  </tbody>\n",
       "</table>\n",
       "</div>"
      ],
      "text/plain": [
       "   age  female  hisp  education  earnings  hours  week  union  uncov  region  \\\n",
       "0   52       0     0         12    146000     45    52      0      0       1   \n",
       "1   38       0     0         18     50000     45    52      0      0       1   \n",
       "2   38       0     0         14     32000     40    51      0      0       1   \n",
       "3   41       1     0         13     47000     40    52      0      0       1   \n",
       "4   42       0     0         13    161525     50    52      1      0       1   \n",
       "\n",
       "   race  marital  \n",
       "0     1        1  \n",
       "1     1        1  \n",
       "2     1        1  \n",
       "3     1        1  \n",
       "4     1        1  "
      ]
     },
     "execution_count": 5,
     "metadata": {},
     "output_type": "execute_result"
    }
   ],
   "source": [
    "# read data from excel file and print de first 5 rows\n",
    "df = pd.read_excel(f'{TEMPDIR}{path_dataset}', index_col=0).reset_index()\n",
    "datos = df.copy()\n",
    "datos.head(5)"
   ]
  },
  {
   "cell_type": "markdown",
   "metadata": {},
   "source": [
    "2. [5 points] Pre-process the data and construct the variables ```wage``` and ```lwage``` (as $\\log(\\texttt{wage})$) as extra variables in your local copy of the data set (you called this ```datos``` above) you downloaded in the previous part. **Hint**: Read the data description and the code in Section 3.25 (pages 90-92) in Bruce Hansen's [Econometrics Lecture Notes](http://www.ssc.wisc.edu/~bhansen/econometrics/)."
   ]
  },
  {
   "cell_type": "code",
   "execution_count": 6,
   "metadata": {},
   "outputs": [],
   "source": [
    "datos['wage'] = datos['earnings'] / (datos['hours']*datos['week'])\n",
    "datos['lwage'] = np.log(datos['wage'])"
   ]
  },
  {
   "cell_type": "markdown",
   "metadata": {},
   "source": [
    "3. [3 points] Verify that an _estimate_ of $\\mathbb{E}[\\log(\\texttt{wage})]$ is $2.95$, i.e., ask your code to print your estimate in a user friendly manner."
   ]
  },
  {
   "cell_type": "code",
   "execution_count": 7,
   "metadata": {},
   "outputs": [
    {
     "name": "stdout",
     "output_type": "stream",
     "text": [
      "The expected value of log(wage) is: 2.95 per hour.\n"
     ]
    }
   ],
   "source": [
    "mean = datos['lwage'].mean()\n",
    "print(f'The expected value of log(wage) is: {round(mean,2)} per hour.')"
   ]
  },
  {
   "cell_type": "markdown",
   "metadata": {},
   "source": [
    "4. [10 points] Replicate \"Table 2.1: Mean Log Wages by Sex and Race\" (page 17) in Bruce Hansen's [Econometrics Lecture Notes](http://www.ssc.wisc.edu/~bhansen/econometrics/), i.e., you are expected to provide a formatted table 'as is' printed in Bruce Hansen's [Econometrics Lecture Notes](http://www.ssc.wisc.edu/~bhansen/econometrics/) or as close as possible. **Hint:** Look at this [post](https://www.geeksforgeeks.org/how-to-render-pandas-dataframe-as-html-table/)."
   ]
  },
  {
   "cell_type": "code",
   "execution_count": 8,
   "metadata": {},
   "outputs": [],
   "source": [
    "# compute lwage for each group\n",
    "female_white = datos['lwage'][(datos['female']==1) & (datos['race']==1)]\n",
    "female_black = datos['lwage'][(datos['female']==1) & (datos['race']==2)]\n",
    "female_other = datos['lwage'][(datos['female']==1) & ~((datos['race']==1) & (datos['race']==2))]\n",
    "male_white = datos['lwage'][(datos['female']==0) & (datos['race']==1)]\n",
    "male_black = datos['lwage'][(datos['female']==0) & (datos['race']==2)]\n",
    "male_other = datos['lwage'][(datos['female']==0) & ~((datos['race']==1) & (datos['race']==2))]"
   ]
  },
  {
   "cell_type": "code",
   "execution_count": 9,
   "metadata": {},
   "outputs": [],
   "source": [
    "men_avg_race = [round(np.mean(profile),2) for profile in [male_white, male_black, male_other]]\n",
    "women_avg_race = [round(np.mean(profile),2) for profile in [female_white, female_black, female_other]]"
   ]
  },
  {
   "cell_type": "code",
   "execution_count": 10,
   "metadata": {},
   "outputs": [
    {
     "name": "stdout",
     "output_type": "stream",
     "text": [
      "Table 2.1: Mean Log Wages by Gender and Rece\n"
     ]
    },
    {
     "data": {
      "text/html": [
       "<div>\n",
       "<style scoped>\n",
       "    .dataframe tbody tr th:only-of-type {\n",
       "        vertical-align: middle;\n",
       "    }\n",
       "\n",
       "    .dataframe tbody tr th {\n",
       "        vertical-align: top;\n",
       "    }\n",
       "\n",
       "    .dataframe thead th {\n",
       "        text-align: right;\n",
       "    }\n",
       "</style>\n",
       "<table border=\"1\" class=\"dataframe\">\n",
       "  <thead>\n",
       "    <tr style=\"text-align: right;\">\n",
       "      <th></th>\n",
       "      <th>Race</th>\n",
       "      <th>Men</th>\n",
       "      <th>Women</th>\n",
       "    </tr>\n",
       "  </thead>\n",
       "  <tbody>\n",
       "    <tr>\n",
       "      <th>0</th>\n",
       "      <td>White</td>\n",
       "      <td>3.07</td>\n",
       "      <td>2.82</td>\n",
       "    </tr>\n",
       "    <tr>\n",
       "      <th>1</th>\n",
       "      <td>Black</td>\n",
       "      <td>2.86</td>\n",
       "      <td>2.73</td>\n",
       "    </tr>\n",
       "    <tr>\n",
       "      <th>2</th>\n",
       "      <td>Other</td>\n",
       "      <td>3.05</td>\n",
       "      <td>2.81</td>\n",
       "    </tr>\n",
       "  </tbody>\n",
       "</table>\n",
       "</div>"
      ],
      "text/plain": [
       "    Race   Men  Women\n",
       "0  White  3.07   2.82\n",
       "1  Black  2.86   2.73\n",
       "2  Other  3.05   2.81"
      ]
     },
     "metadata": {},
     "output_type": "display_data"
    },
    {
     "name": "stdout",
     "output_type": "stream",
     "text": [
      "\\begin{tabular}{lrr}\n",
      "\\toprule\n",
      " Race &  Men &  Women \\\\\n",
      "\\midrule\n",
      "White & 3.07 &   2.82 \\\\\n",
      "Black & 2.86 &   2.73 \\\\\n",
      "Other & 3.05 &   2.81 \\\\\n",
      "\\bottomrule\n",
      "\\end{tabular}\n",
      "\n"
     ]
    }
   ],
   "source": [
    "table_2_1 = pd.DataFrame({\"Race\": ['White', 'Black', 'Other'],\n",
    "                     \n",
    "                   \"Men\": men_avg_race,\n",
    "                     \n",
    "                   \"Women\": women_avg_race})\n",
    " \n",
    "print(\"Table 2.1: Mean Log Wages by Gender and Rece\")\n",
    "display(table_2_1)  \n",
    "\n",
    "# Bonus: you can copy this latex code and put in your latex document\n",
    "print(table_2_1.to_latex(index=False))  "
   ]
  },
  {
   "cell_type": "markdown",
   "metadata": {},
   "source": [
    "5. [10 points] Replicate \"Table 2.2: Average Wages and Percentage Differences\" (page 20) in Bruce Hansen's [Econometrics Lecture Notes](http://www.ssc.wisc.edu/~bhansen/econometrics/), i.e., you are expected to provide a formatted table 'as is' printed in Bruce Hansen's [Econometrics Lecture Notes](http://www.ssc.wisc.edu/~bhansen/econometrics/) or as close as possible.  **Hint:** Look at this [post](https://www.geeksforgeeks.org/how-to-render-pandas-dataframe-as-html-table/)."
   ]
  },
  {
   "cell_type": "code",
   "execution_count": 11,
   "metadata": {},
   "outputs": [],
   "source": [
    "def compute_stats_vector(vector):\n",
    "    \"\"\"\n",
    "    This function compute the vector of stats based on\n",
    "    an input numerical vector\n",
    "    \"\"\"\n",
    "    mean = round(vector.mean(), 2)\n",
    "    median = round(vector.median(), 2)\n",
    "    geo_mean = round(gmean(vector), 2)\n",
    "    \n",
    "    log_vec = np.log(vector)\n",
    "    mean_log = round(log_vec.mean(), 2)\n",
    "    \n",
    "    list_stats = [mean, median, geo_mean, mean_log]\n",
    "    return list_stats\n",
    "\n",
    "def compute_diff(vector1, vector2, correct_last_term = True):\n",
    "    \"\"\"\n",
    "    \n",
    "    \"\"\"\n",
    "    # make sure have same dimension\n",
    "    assert len(vector1) == len(vector2)\n",
    "    \n",
    "    diff_vec = [round(((vector1[index] - vector2[index])/vector2[index])*100) for index in range(len(vector1)) ]\n",
    "    \n",
    "    if correct_last_term:\n",
    "        diff_vec[-1] = round((list(vector1)[-1] - list(vector2)[-1])*100, 2)\n",
    "        \n",
    "    return diff_vec\n",
    "        "
   ]
  },
  {
   "cell_type": "code",
   "execution_count": 12,
   "metadata": {},
   "outputs": [],
   "source": [
    "men_wage = datos['wage'][datos['female']==0]\n",
    "women_wage = datos['wage'][datos['female']==1]\n",
    "men_stats = compute_stats_vector(men_wage)\n",
    "women_stats = compute_stats_vector(women_wage)\n",
    "diff = compute_diff(list(men_stats), list(women_stats))"
   ]
  },
  {
   "cell_type": "code",
   "execution_count": 13,
   "metadata": {},
   "outputs": [
    {
     "name": "stdout",
     "output_type": "stream",
     "text": [
      "Table 2.1: Mean Log Wages by Gender and Rece\n"
     ]
    },
    {
     "data": {
      "text/html": [
       "<div>\n",
       "<style scoped>\n",
       "    .dataframe tbody tr th:only-of-type {\n",
       "        vertical-align: middle;\n",
       "    }\n",
       "\n",
       "    .dataframe tbody tr th {\n",
       "        vertical-align: top;\n",
       "    }\n",
       "\n",
       "    .dataframe thead th {\n",
       "        text-align: right;\n",
       "    }\n",
       "</style>\n",
       "<table border=\"1\" class=\"dataframe\">\n",
       "  <thead>\n",
       "    <tr style=\"text-align: right;\">\n",
       "      <th></th>\n",
       "      <th>Stast</th>\n",
       "      <th>Men</th>\n",
       "      <th>Women</th>\n",
       "      <th>% Difference</th>\n",
       "    </tr>\n",
       "  </thead>\n",
       "  <tbody>\n",
       "    <tr>\n",
       "      <th>0</th>\n",
       "      <td>Mean</td>\n",
       "      <td>26.80</td>\n",
       "      <td>20.00</td>\n",
       "      <td>34.0</td>\n",
       "    </tr>\n",
       "    <tr>\n",
       "      <th>1</th>\n",
       "      <td>Median</td>\n",
       "      <td>21.14</td>\n",
       "      <td>16.83</td>\n",
       "      <td>26.0</td>\n",
       "    </tr>\n",
       "    <tr>\n",
       "      <th>2</th>\n",
       "      <td>Geometric</td>\n",
       "      <td>21.03</td>\n",
       "      <td>16.64</td>\n",
       "      <td>26.0</td>\n",
       "    </tr>\n",
       "    <tr>\n",
       "      <th>3</th>\n",
       "      <td>Mean log wage</td>\n",
       "      <td>3.05</td>\n",
       "      <td>2.81</td>\n",
       "      <td>24.0</td>\n",
       "    </tr>\n",
       "  </tbody>\n",
       "</table>\n",
       "</div>"
      ],
      "text/plain": [
       "           Stast    Men  Women  % Difference\n",
       "0           Mean  26.80  20.00          34.0\n",
       "1         Median  21.14  16.83          26.0\n",
       "2      Geometric  21.03  16.64          26.0\n",
       "3  Mean log wage   3.05   2.81          24.0"
      ]
     },
     "metadata": {},
     "output_type": "display_data"
    },
    {
     "name": "stdout",
     "output_type": "stream",
     "text": [
      "\\begin{tabular}{lrrr}\n",
      "\\toprule\n",
      "        Stast &   Men &  Women &  \\% Difference \\\\\n",
      "\\midrule\n",
      "         Mean & 26.80 &  20.00 &          34.0 \\\\\n",
      "       Median & 21.14 &  16.83 &          26.0 \\\\\n",
      "    Geometric & 21.03 &  16.64 &          26.0 \\\\\n",
      "Mean log wage &  3.05 &   2.81 &          24.0 \\\\\n",
      "\\bottomrule\n",
      "\\end{tabular}\n",
      "\n"
     ]
    }
   ],
   "source": [
    "table_2_2 = pd.DataFrame({\"Stast\": ['Mean', 'Median', 'Geometric', 'Mean log wage'],\n",
    "                     \n",
    "                   \"Men\": men_stats,\n",
    "                     \n",
    "                   \"Women\": women_stats,\n",
    "                    \"% Difference\": diff})\n",
    " \n",
    "print(\"Table 2.1: Mean Log Wages by Gender and Rece\")\n",
    "display(table_2_2)  \n",
    "\n",
    "# Bonus: you can copy this latex code and put in your latex document\n",
    "print(table_2_2.to_latex(index=False))  "
   ]
  },
  {
   "cell_type": "markdown",
   "metadata": {},
   "source": [
    "6. [10 points] Replicate \"Figure 2.3: Expected Log Wage as a Function of Education\" (page 20) in Bruce Hansen's [Econometrics Lecture Notes](http://www.ssc.wisc.edu/~bhansen/econometrics/)."
   ]
  },
  {
   "cell_type": "code",
   "execution_count": 14,
   "metadata": {},
   "outputs": [
    {
     "data": {
      "text/html": [
       "<div>\n",
       "<style scoped>\n",
       "    .dataframe tbody tr th:only-of-type {\n",
       "        vertical-align: middle;\n",
       "    }\n",
       "\n",
       "    .dataframe tbody tr th {\n",
       "        vertical-align: top;\n",
       "    }\n",
       "\n",
       "    .dataframe thead th {\n",
       "        text-align: right;\n",
       "    }\n",
       "</style>\n",
       "<table border=\"1\" class=\"dataframe\">\n",
       "  <thead>\n",
       "    <tr style=\"text-align: right;\">\n",
       "      <th></th>\n",
       "      <th>age</th>\n",
       "      <th>female</th>\n",
       "      <th>hisp</th>\n",
       "      <th>education</th>\n",
       "      <th>earnings</th>\n",
       "      <th>hours</th>\n",
       "      <th>week</th>\n",
       "      <th>union</th>\n",
       "      <th>uncov</th>\n",
       "      <th>region</th>\n",
       "      <th>race</th>\n",
       "      <th>marital</th>\n",
       "      <th>wage</th>\n",
       "      <th>lwage</th>\n",
       "    </tr>\n",
       "  </thead>\n",
       "  <tbody>\n",
       "    <tr>\n",
       "      <th>0</th>\n",
       "      <td>52</td>\n",
       "      <td>0</td>\n",
       "      <td>0</td>\n",
       "      <td>12</td>\n",
       "      <td>146000</td>\n",
       "      <td>45</td>\n",
       "      <td>52</td>\n",
       "      <td>0</td>\n",
       "      <td>0</td>\n",
       "      <td>1</td>\n",
       "      <td>1</td>\n",
       "      <td>1</td>\n",
       "      <td>62.393162</td>\n",
       "      <td>4.133456</td>\n",
       "    </tr>\n",
       "    <tr>\n",
       "      <th>1</th>\n",
       "      <td>38</td>\n",
       "      <td>0</td>\n",
       "      <td>0</td>\n",
       "      <td>18</td>\n",
       "      <td>50000</td>\n",
       "      <td>45</td>\n",
       "      <td>52</td>\n",
       "      <td>0</td>\n",
       "      <td>0</td>\n",
       "      <td>1</td>\n",
       "      <td>1</td>\n",
       "      <td>1</td>\n",
       "      <td>21.367521</td>\n",
       "      <td>3.061872</td>\n",
       "    </tr>\n",
       "    <tr>\n",
       "      <th>2</th>\n",
       "      <td>38</td>\n",
       "      <td>0</td>\n",
       "      <td>0</td>\n",
       "      <td>14</td>\n",
       "      <td>32000</td>\n",
       "      <td>40</td>\n",
       "      <td>51</td>\n",
       "      <td>0</td>\n",
       "      <td>0</td>\n",
       "      <td>1</td>\n",
       "      <td>1</td>\n",
       "      <td>1</td>\n",
       "      <td>15.686275</td>\n",
       "      <td>2.752786</td>\n",
       "    </tr>\n",
       "    <tr>\n",
       "      <th>3</th>\n",
       "      <td>41</td>\n",
       "      <td>1</td>\n",
       "      <td>0</td>\n",
       "      <td>13</td>\n",
       "      <td>47000</td>\n",
       "      <td>40</td>\n",
       "      <td>52</td>\n",
       "      <td>0</td>\n",
       "      <td>0</td>\n",
       "      <td>1</td>\n",
       "      <td>1</td>\n",
       "      <td>1</td>\n",
       "      <td>22.596154</td>\n",
       "      <td>3.117780</td>\n",
       "    </tr>\n",
       "    <tr>\n",
       "      <th>4</th>\n",
       "      <td>42</td>\n",
       "      <td>0</td>\n",
       "      <td>0</td>\n",
       "      <td>13</td>\n",
       "      <td>161525</td>\n",
       "      <td>50</td>\n",
       "      <td>52</td>\n",
       "      <td>1</td>\n",
       "      <td>0</td>\n",
       "      <td>1</td>\n",
       "      <td>1</td>\n",
       "      <td>1</td>\n",
       "      <td>62.125000</td>\n",
       "      <td>4.129148</td>\n",
       "    </tr>\n",
       "  </tbody>\n",
       "</table>\n",
       "</div>"
      ],
      "text/plain": [
       "   age  female  hisp  education  earnings  hours  week  union  uncov  region  \\\n",
       "0   52       0     0         12    146000     45    52      0      0       1   \n",
       "1   38       0     0         18     50000     45    52      0      0       1   \n",
       "2   38       0     0         14     32000     40    51      0      0       1   \n",
       "3   41       1     0         13     47000     40    52      0      0       1   \n",
       "4   42       0     0         13    161525     50    52      1      0       1   \n",
       "\n",
       "   race  marital       wage     lwage  \n",
       "0     1        1  62.393162  4.133456  \n",
       "1     1        1  21.367521  3.061872  \n",
       "2     1        1  15.686275  2.752786  \n",
       "3     1        1  22.596154  3.117780  \n",
       "4     1        1  62.125000  4.129148  "
      ]
     },
     "execution_count": 14,
     "metadata": {},
     "output_type": "execute_result"
    }
   ],
   "source": [
    "datos.head()"
   ]
  },
  {
   "cell_type": "code",
   "execution_count": 15,
   "metadata": {},
   "outputs": [
    {
     "data": {
      "image/png": "[encoded data removed]",
      "text/plain": [
       "<Figure size 640x480 with 1 Axes>"
      ]
     },
     "metadata": {},
     "output_type": "display_data"
    }
   ],
   "source": [
    "# take log hourly wage for each group\n",
    "\n",
    "white_men = (datos['race']==1)&(datos['female']==0)\n",
    "white_female = (datos['race']==1)&(datos['female']==1)\n",
    "\n",
    "wm_lnwage = male_white\n",
    "wf_lnwage = female_white\n",
    "wm_edu = datos[white_men]['education']\n",
    "wf_edu = datos[white_female]['education']\n",
    "\n",
    "edu_years = list(range(4,22,2))\n",
    "\n",
    "# calculate mean for each group\n",
    "wm_mean = []\n",
    "wf_mean = []\n",
    "\n",
    "for i in range(len(edu_years)):\n",
    "    wm_mean.append(wm_lnwage[wm_edu == edu_years[i]].mean())\n",
    "    wf_mean.append(wf_lnwage[wf_edu == edu_years[i]].mean())\n",
    "\n",
    "# plotting the figure\n",
    "plt.style.use('grayscale')\n",
    "plt.grid(False)\n",
    "plt.plot(edu_years, wm_mean, 'o', linestyle='solid')\n",
    "plt.plot(edu_years, wf_mean, '^', linestyle='solid')\n",
    "plt.xlim(3,22)\n",
    "plt.ylim(2,4)\n",
    "plt.xlabel(\"Education (Years)\")\n",
    "plt.ylabel(\"Log Dollars per Hour\")\n",
    "plt.legend(['White Men', 'White Women'])\n",
    "plt.savefig(\"figure2_3.pdf\",dpi=150,bbox_inches='tight')"
   ]
  },
  {
   "cell_type": "code",
   "execution_count": 16,
   "metadata": {},
   "outputs": [],
   "source": [
    "shutil.rmtree(TEMPDIR)"
   ]
  },
  {
   "cell_type": "code",
   "execution_count": 17,
   "metadata": {},
   "outputs": [
    {
     "name": "stdout",
     "output_type": "stream",
     "text": [
      "All done\n"
     ]
    }
   ],
   "source": [
    "print('All done')"
   ]
  }
 ],
 "metadata": {
  "environment": {
   "kernel": "python3",
   "name": "common-cpu.m84",
   "type": "gcloud",
   "uri": "gcr.io/deeplearning-platform-release/base-cpu:m84"
  },
  "kernelspec": {
   "display_name": "conda_python3",
   "language": "python",
   "name": "conda_python3"
  },
  "language_info": {
   "codemirror_mode": {
    "name": "ipython",
    "version": 3
   },
   "file_extension": ".py",
   "mimetype": "text/x-python",
   "name": "python",
   "nbconvert_exporter": "python",
   "pygments_lexer": "ipython3",
   "version": "3.10.6"
  },
  "latex_envs": {
   "LaTeX_envs_menu_present": true,
   "autoclose": false,
   "autocomplete": true,
   "bibliofile": "biblio.bib",
   "cite_by": "apalike",
   "current_citInitial": 1,
   "eqLabelWithNumbers": true,
   "eqNumInitial": 1,
   "hotkeys": {
    "equation": "Ctrl-E",
    "itemize": "Ctrl-I"
   },
   "labels_anchors": false,
   "latex_user_defs": false,
   "report_style_numbering": false,
   "user_envs_cfg": false
  },
  "varInspector": {
   "cols": {
    "lenName": 16,
    "lenType": 16,
    "lenVar": 40
   },
   "kernels_config": {
    "python": {
     "delete_cmd_postfix": "",
     "delete_cmd_prefix": "del ",
     "library": "var_list.py",
     "varRefreshCmd": "print(var_dic_list())"
    },
    "r": {
     "delete_cmd_postfix": ") ",
     "delete_cmd_prefix": "rm(",
     "library": "var_list.r",
     "varRefreshCmd": "cat(var_dic_list()) "
    }
   },
   "types_to_exclude": [
    "module",
    "function",
    "builtin_function_or_method",
    "instance",
    "_Feature"
   ],
   "window_display": false
  }
 },
 "nbformat": 4,
 "nbformat_minor": 4
}
